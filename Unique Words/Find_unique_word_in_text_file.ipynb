{
 "cells": [
  {
   "cell_type": "code",
   "execution_count": 1,
   "id": "aa8259be",
   "metadata": {},
   "outputs": [],
   "source": [
    "text_file = open('data.text', 'r')\n",
    "text = text_file.read()"
   ]
  },
  {
   "cell_type": "code",
   "execution_count": 2,
   "id": "a484af8c",
   "metadata": {},
   "outputs": [],
   "source": [
    "#cleaning\n",
    "text = text.lower()\n",
    "words = text.split()\n",
    "words = [word.strip('.,!;()[]') for word in words]\n",
    "words = [word.replace(\"'s\", '') for word in words]"
   ]
  },
  {
   "cell_type": "code",
   "execution_count": 3,
   "id": "d8289aa7",
   "metadata": {},
   "outputs": [],
   "source": [
    "#finding unique\n",
    "unique = []\n",
    "for word in words:\n",
    "    if word not in unique:\n",
    "        unique.append(word)"
   ]
  },
  {
   "cell_type": "code",
   "execution_count": 4,
   "id": "e0bd3d47",
   "metadata": {},
   "outputs": [],
   "source": [
    "#sort\n",
    "unique.sort()"
   ]
  },
  {
   "cell_type": "code",
   "execution_count": 5,
   "id": "c577a93d",
   "metadata": {},
   "outputs": [
    {
     "name": "stdout",
     "output_type": "stream",
     "text": [
      "['a', 'across', 'an', 'apple', 'away', 'beside', 'big', 'came', 'cat', 'company', 'day', 'device', 'doctor', 'fat', 'is', 'keeps', 'office', 'owns', 'road', 'the', 'very']\n"
     ]
    }
   ],
   "source": [
    "#print\n",
    "print(unique)"
   ]
  }
 ],
 "metadata": {
  "kernelspec": {
   "display_name": "Python 3.9.6 64-bit",
   "language": "python",
   "name": "python3"
  },
  "language_info": {
   "codemirror_mode": {
    "name": "ipython",
    "version": 3
   },
   "file_extension": ".py",
   "mimetype": "text/x-python",
   "name": "python",
   "nbconvert_exporter": "python",
   "pygments_lexer": "ipython3",
   "version": "3.9.6"
  },
  "vscode": {
   "interpreter": {
    "hash": "5b9421b5222da2867aabbb111c01a47ecd976a453d0e487de23fa3aaa8e98ee4"
   }
  }
 },
 "nbformat": 4,
 "nbformat_minor": 5
}
