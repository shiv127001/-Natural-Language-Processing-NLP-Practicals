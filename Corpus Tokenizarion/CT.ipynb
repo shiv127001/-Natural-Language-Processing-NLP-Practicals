{
 "cells": [
  {
   "cell_type": "code",
   "execution_count": 1,
   "metadata": {},
   "outputs": [],
   "source": [
    "import pandas as pd"
   ]
  },
  {
   "cell_type": "code",
   "execution_count": 2,
   "metadata": {},
   "outputs": [],
   "source": [
    "#reading .txt file\n",
    "text = pd.read_csv(\"sample.txt\",header=None)"
   ]
  },
  {
   "cell_type": "code",
   "execution_count": 3,
   "metadata": {},
   "outputs": [
    {
     "name": "stdout",
     "output_type": "stream",
     "text": [
      "['l o w </w>', 'l o w </w>', 'l o w </w>', 'l o w </w>', 'l o w </w>', 'l o w e r </w>', 'l o w e r </w>', 'n e w e s t </w>', 'n e w e s t </w>', 'n e w e s t </w>', 'n e w e s t </w>', 'n e w e s t </w>', 'n e w e s t </w>', 'w i d e s t </w>', 'w i d e s t </w>', 'w i d e s t </w>']\n"
     ]
    }
   ],
   "source": [
    "#converting a dataframe into a single list \n",
    "corpus=[]\n",
    "for row in text.values:\n",
    "    tokens = row[0].split(\" \")\n",
    "    for token in tokens:\n",
    "        corpus.append(token)\n",
    "\n",
    "vocab = list(set(\" \".join(corpus)))\n",
    "vocab.remove(' ')\n",
    "\n",
    "#split the word into characters\n",
    "corpus = [\" \".join(token) for token in corpus]\n",
    "\n",
    "#appending </w>\n",
    "corpus=[token+' </w>' for token in corpus]\n",
    "print(corpus)"
   ]
  },
  {
   "cell_type": "code",
   "execution_count": null,
   "metadata": {},
   "outputs": [],
   "source": []
  }
 ],
 "metadata": {
  "kernelspec": {
   "display_name": "Python 3.9.6 64-bit",
   "language": "python",
   "name": "python3"
  },
  "language_info": {
   "codemirror_mode": {
    "name": "ipython",
    "version": 3
   },
   "file_extension": ".py",
   "mimetype": "text/x-python",
   "name": "python",
   "nbconvert_exporter": "python",
   "pygments_lexer": "ipython3",
   "version": "3.9.6"
  },
  "orig_nbformat": 4,
  "vscode": {
   "interpreter": {
    "hash": "5b9421b5222da2867aabbb111c01a47ecd976a453d0e487de23fa3aaa8e98ee4"
   }
  }
 },
 "nbformat": 4,
 "nbformat_minor": 2
}
